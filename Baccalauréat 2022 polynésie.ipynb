{
 "cells": [
  {
   "cell_type": "markdown",
   "metadata": {},
   "source": [
    "# Baccalauréat 2022 polynésie"
   ]
  },
  {
   "cell_type": "markdown",
   "metadata": {},
   "source": [
    "élève = Yohann Guérin"
   ]
  },
  {
   "cell_type": "markdown",
   "metadata": {},
   "source": [
    "## Exercice 1: algorithme et l'aléatoire"
   ]
  },
  {
   "cell_type": "code",
   "execution_count": 2,
   "metadata": {},
   "outputs": [],
   "source": [
    "from random import choice\n",
    "def A():\n",
    "    if choice([True, False]):\n",
    "        return \"a\"\n",
    "    else:\n",
    "        return \"a\" + A() + \"a\""
   ]
  },
  {
   "cell_type": "markdown",
   "metadata": {},
   "source": [
    "1-a = Il s'agit d'une fonction récursive"
   ]
  },
  {
   "cell_type": "raw",
   "metadata": {},
   "source": [
    "1-b = Si la fonction choice retourne \"False\" un nombre de fois supérieur à la limite de profondeur de la récursivité (1000 par défaut) dans ce cas une erreur d'éxécution se produit.\n",
    "\n",
    "    Pour éviter cela, nous pouvons faire: \n",
    "import sys # pour importer le modules sys\n",
    "sys.setrecursionlimit(10**6) # pour forcer la limite de la récursion au delà de mille."
   ]
  },
  {
   "cell_type": "markdown",
   "metadata": {},
   "source": [
    "2-a = "
   ]
  },
  {
   "cell_type": "code",
   "execution_count": 8,
   "metadata": {},
   "outputs": [
    {
     "data": {
      "text/plain": [
       "'aaa'"
      ]
     },
     "execution_count": 8,
     "metadata": {},
     "output_type": "execute_result"
    }
   ],
   "source": [
    "from random import choice\n",
    "def A(n):\n",
    "    if n<=0 or choice([True, False]) :\n",
    "        return \"a\"\n",
    "    else:\n",
    "        return \"a\" + A(n-1) + \"a\"\n",
    "A(1)"
   ]
  },
  {
   "cell_type": "markdown",
   "metadata": {},
   "source": [
    "2-b = étant donné que n décrémente, le false ne poura pas dépasser 50 "
   ]
  },
  {
   "cell_type": "code",
   "execution_count": 37,
   "metadata": {},
   "outputs": [
    {
     "data": {
      "text/plain": [
       "'bab'"
      ]
     },
     "execution_count": 37,
     "metadata": {},
     "output_type": "execute_result"
    }
   ],
   "source": [
    "def B(n):\n",
    "    if n <= 0 or choice([True, False]):\n",
    "        return \"b\" + A(n-1) + \"b\"\n",
    "    else:\n",
    "        return \"b\" + B(n-1) + \"b\"\n",
    "B(0)"
   ]
  },
  {
   "cell_type": "markdown",
   "metadata": {},
   "source": [
    "3-a = Pour B(0), il va retourner \"bab\". Pour B(1), il va retourner \"bbabb ou bab\". Pour B(2), il va retourner \"bab ou bbbabbb ou bbabb ou baaab\""
   ]
  },
  {
   "cell_type": "markdown",
   "metadata": {},
   "source": [
    "4-a = "
   ]
  },
  {
   "cell_type": "code",
   "execution_count": 40,
   "metadata": {},
   "outputs": [
    {
     "data": {
      "text/plain": [
       "True"
      ]
     },
     "execution_count": 40,
     "metadata": {},
     "output_type": "execute_result"
    }
   ],
   "source": [
    "def regleA(chaine):\n",
    "    n = len(chaine)\n",
    "    if n >= 2:\n",
    "        return chaine[0] == \"a\" and chaine[n-1] == \"a\" and regleA(chaine)\n",
    "    else:\n",
    "        return chaine == 'a'\n",
    "regleA('a')"
   ]
  },
  {
   "cell_type": "markdown",
   "metadata": {},
   "source": [
    "4-b = "
   ]
  },
  {
   "cell_type": "code",
   "execution_count": 43,
   "metadata": {},
   "outputs": [
    {
     "data": {
      "text/plain": [
       "True"
      ]
     },
     "execution_count": 43,
     "metadata": {},
     "output_type": "execute_result"
    }
   ],
   "source": [
    "def regleB(chaine):\n",
    "    n = len(chaine)\n",
    "    if n >= 2:\n",
    "        return chaine[0] == \"b\" and chaine[n-1] == \"b\" and regleB(chaine)\n",
    "    else:\n",
    "        return chaine == 'b'\n",
    "regleB('b')"
   ]
  }
 ],
 "metadata": {
  "kernelspec": {
   "display_name": "Python 3",
   "language": "python",
   "name": "python3"
  },
  "language_info": {
   "codemirror_mode": {
    "name": "ipython",
    "version": 3
   },
   "file_extension": ".py",
   "mimetype": "text/x-python",
   "name": "python",
   "nbconvert_exporter": "python",
   "pygments_lexer": "ipython3",
   "version": "3.8.3"
  }
 },
 "nbformat": 4,
 "nbformat_minor": 4
}
